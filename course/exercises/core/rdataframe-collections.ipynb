{
 "cells": [
  {
   "cell_type": "markdown",
   "id": "41ca9b9e",
   "metadata": {},
   "source": [
    "# Exercise: RDataFrame and collections"
   ]
  },
  {
   "cell_type": "markdown",
   "id": "c5657ad2",
   "metadata": {},
   "source": [
    "The same dataset used in the previous exercise (`TTree` \"dataset\" in file `example_file.root`) contains two vector columns `vec1` and `vec2`.<br>\n",
    "The elements of `vec1` are distributed as a mixture of Gaussians, plus background noise.<br>\n",
    "To remove the background noise, select the elements of `vec1` for which the square of the corresponding elements in `vec2` is less than 0.1.\n",
    "\n",
    "Where are the peaks of this mixture of Gaussians?\n",
    "\n",
    "### Useful links\n",
    "\n",
    "- [RDataFrame: working with collections](https://root.cern/doc/master/classROOT_1_1RDataFrame.html#collections)\n",
    "- [RVec reference](https://root.cern/doc/master/classROOT_1_1VecOps_1_1RVec.html)"
   ]
  },
  {
   "cell_type": "code",
   "execution_count": 12,
   "id": "4dea17f9",
   "metadata": {},
   "outputs": [
    {
     "data": {
      "image/png": "[encoded data removed]",
      "text/plain": [
       "<IPython.core.display.Image object>"
      ]
     },
     "metadata": {},
     "output_type": "display_data"
    }
   ],
   "source": [
    "import ROOT\n",
    "\n",
    "treename = \"dataset\"\n",
    "filename = \"../../data/example_file.root\"\n",
    "df = ROOT.RDataFrame(treename, filename)\n",
    "\n",
    "df_selection = df.Define(\"vec1_wo_BN\", \"vec1[(vec2 * vec2)<0.1]\")\n",
    "\n",
    "c = ROOT.TCanvas()\n",
    "h = df_selection.Histo1D((\"pt\", \"pt\", 16, 0, 4), \"vec1_wo_BN\")\n",
    "h.Draw()\n",
    "c.Draw()"
   ]
  },
  {
   "cell_type": "markdown",
   "id": "32fad902",
   "metadata": {},
   "source": [
    "<details><summary><b>Click on this text to display the solution (but try yourself first!)</b></summary>\n",
    "    \n",
    "<pre>\n",
    "%jsroot on\n",
    "df = ROOT.RDataFrame(\"dataset\", \"../../data/example_file.root\")\n",
    "h = df.Define(\"v1_to_plot\", \"vec1[vec2*vec2 < 0.1]\").Histo1D(\"v1_to_plot\")\n",
    "c = ROOT.TCanvas()\n",
    "h.Draw()\n",
    "c.Draw()\n",
    "</pre>\n",
    "</details>"
   ]
  }
 ],
 "metadata": {
  "kernelspec": {
   "display_name": "Python 3 (ipykernel)",
   "language": "python",
   "name": "python3"
  },
  "language_info": {
   "codemirror_mode": {
    "name": "ipython",
    "version": 3
   },
   "file_extension": ".py",
   "mimetype": "text/x-python",
   "name": "python",
   "nbconvert_exporter": "python",
   "pygments_lexer": "ipython3",
   "version": "3.10.6"
  }
 },
 "nbformat": 4,
 "nbformat_minor": 5
}
